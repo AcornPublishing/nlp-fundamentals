{
 "cells": [
  {
   "cell_type": "markdown",
   "metadata": {},
   "source": [
    "# Gensim Text Summarizer\n",
    "\n",
    "In this notebook we will use the gensim Text Summarizer to summarize text"
   ]
  },
  {
   "cell_type": "code",
   "execution_count": 1,
   "metadata": {},
   "outputs": [],
   "source": [
    "import warnings\n",
    "\n",
    "warnings.filterwarnings('ignore')\n",
    "from nltk.tokenize import sent_tokenize\n",
    "from gensim.summarization import summarize\n",
    "import requests"
   ]
  },
  {
   "cell_type": "code",
   "execution_count": 2,
   "metadata": {},
   "outputs": [
    {
     "data": {
      "application/javascript": [
       "IPython.notebook.set_autosave_interval(120000)"
      ]
     },
     "metadata": {},
     "output_type": "display_data"
    },
    {
     "name": "stdout",
     "output_type": "stream",
     "text": [
      "Autosaving every 120 seconds\n"
     ]
    }
   ],
   "source": [
    "%autosave 120"
   ]
  },
  {
   "cell_type": "markdown",
   "metadata": {},
   "source": [
    "# Load the WhyClick Page"
   ]
  },
  {
   "cell_type": "code",
   "execution_count": 3,
   "metadata": {},
   "outputs": [],
   "source": [
    "from bs4 import BeautifulSoup \n",
    "\n",
    "r = requests.get('https://click.palletsprojects.com/en/7.x/why/')\n",
    "r.encoding = 'utf-8'\n",
    "soup = BeautifulSoup(r.text)\n",
    "why_click = soup.find(id=\"why-click\").text.replace('\\n', ' ')"
   ]
  },
  {
   "cell_type": "code",
   "execution_count": 4,
   "metadata": {},
   "outputs": [],
   "source": [
    "import pandas as pd\n",
    "\n",
    "pd.set_option('display.max_colwidth',500)\n",
    "def show_sentences(text):\n",
    "    sentences = sent_tokenize(text) if type(text) is str else text\n",
    "    return pd.DataFrame({'Sentence': sentences})\n",
    "   "
   ]
  },
  {
   "cell_type": "code",
   "execution_count": 5,
   "metadata": {
    "scrolled": true
   },
   "outputs": [
    {
     "data": {
      "text/plain": [
       "' Why Click?¶ There are so many libraries out there for writing command line utilities; why does Click exist? This question is easy to answer: because there is not a single command line utility for Python out there which ticks the following boxes:  is lazily composable without restrictions supports implementation of Unix/POSIX command line conventions supports loading values from environment variables out of the box supports for prompting of custom values is fully nestable and composable works the same in Python 2 and 3 supports file handling out of the box comes with useful common helpers (getting terminal dimensions, ANSI colors, fetching direct keyboard input, screen clearing, finding config paths, launching apps and editors, etc.)  There are many alternatives to Click and you can have a look at them if you enjoy them better.  The obvious ones are optparse and argparse from the standard library. Click actually implements its own parsing of arguments and does not use optparse or argparse following the optparse parsing behavior. The reason it’s not based on argparse is that argparse does not allow proper nesting of commands by design and has some deficiencies when it comes to POSIX compliant argument handling. Click is designed to be fun to work with and at the same time not stand in your way.  It’s not overly flexible either.  Currently, for instance, it does not allow you to customize the help pages too much. This is intentional because Click is designed to allow you to nest command line utilities.  The idea is that you can have a system that works together with another system by tacking two Click instances together and they will continue working as they should. Too much customizability would break this promise. Click was written to support the Flask microframework ecosystem because no tool could provide it with the functionality it needed. To get an understanding of what Click is all about, I strongly recommend looking at the Complex Applications chapter to see what it’s useful for.  Why not Argparse?¶ Click is internally based on optparse instead of argparse.  This however is an implementation detail that a user does not have to be concerned with.  The reason however Click is not using argparse is that it has some problematic behaviors that make handling arbitrary command line interfaces hard:  argparse has built-in magic behavior to guess if something is an argument or an option.  This becomes a problem when dealing with incomplete command lines as it’s not possible to know without having a full understanding of the command line how the parser is going to behave.  This goes against Click’s ambitions of dispatching to subparsers. argparse currently does not support disabling of interspersed arguments.  Without this feature it’s not possible to safely implement Click’s nested parsing nature.    Why not Docopt etc.?¶ Docopt and many tools like it are cool in how they work, but very few of these tools deal with nesting of commands and composability in a way like Click.  To the best of the developer’s knowledge, Click is the first Python library that aims to create a level of composability of applications that goes beyond what the system itself supports. Docopt, for instance, acts by parsing your help pages and then parsing according to those rules.  The side effect of this is that docopt is quite rigid in how it handles the command line interface.  The upside of docopt is that it gives you strong control over your help page; the downside is that due to this it cannot rewrap your output for the current terminal width and it makes translations hard.  On top of that docopt is restricted to basic parsing.  It does not handle argument dispatching and callback invocation or types.  This means there is a lot of code that needs to be written in addition to the basic help page to handle the parsing results. Most of all, however, it makes composability hard.  While docopt does support dispatching to subcommands, it for instance does not directly support any kind of automatic subcommand enumeration based on what’s available or it does not enforce subcommands to work in a consistent way. This is fine, but it’s different from how Click wants to work.  Click aims to support fully composable command line user interfaces by doing the following:  Click does not just parse, it also dispatches to the appropriate code. Click has a strong concept of an invocation context that allows subcommands to respond to data from the parent command. Click has strong information available for all parameters and commands so that it can generate unified help pages for the full CLI and to assist the user in converting the input data as necessary. Click has a strong understanding of what types are and can give the user consistent error messages if something goes wrong.  A subcommand written by a different developer will not suddenly die with a different error message because it’s manually handled. Click has enough meta information available for its whole program that it can evolve over time to improve the user experience without forcing developers to adjust their programs.  For instance, if Click decides to change how help pages are formatted, all Click programs will automatically benefit from this.  The aim of Click is to make composable systems, whereas the aim of docopt is to build the most beautiful and hand-crafted command line interfaces. These two goals conflict with one another in subtle ways.  Click actively prevents people from implementing certain patterns in order to achieve unified command line interfaces.  You have very little input on reformatting your help pages for instance.   Why Hardcoded Behaviors?¶ The other question is why Click goes away from optparse and hardcodes certain behaviors instead of staying configurable.  There are multiple reasons for this.  The biggest one is that too much configurability makes it hard to achieve a consistent command line experience. The best example for this is optparse’s callback functionality for accepting an arbitrary number of arguments.  Due to syntactical ambiguities on the command line, there is no way to implement fully variadic arguments. There are always tradeoffs that need to be made and in case of argparse these tradeoffs have been critical enough, that a system like Click cannot even be implemented on top of it. In this particular case, Click attempts to stay with a handful of accepted paradigms for building command line interfaces that can be well documented and tested.   Why No Auto Correction?¶ The question came up why Click does not auto correct parameters given that even optparse and argparse support automatic expansion of long arguments. The reason for this is that it’s a liability for backwards compatibility. If people start relying on automatically modified parameters and someone adds a new parameter in the future, the script might stop working.  These kinds of problems are hard to find so Click does not attempt to be magical about this. This sort of behavior however can be implemented on a higher level to support things such as explicit aliases.  For more information see Command Aliases.  '"
      ]
     },
     "execution_count": 5,
     "metadata": {},
     "output_type": "execute_result"
    }
   ],
   "source": [
    "why_click"
   ]
  },
  {
   "cell_type": "code",
   "execution_count": 13,
   "metadata": {
    "scrolled": true
   },
   "outputs": [
    {
     "data": {
      "text/html": [
       "<div>\n",
       "<style scoped>\n",
       "    .dataframe tbody tr th:only-of-type {\n",
       "        vertical-align: middle;\n",
       "    }\n",
       "\n",
       "    .dataframe tbody tr th {\n",
       "        vertical-align: top;\n",
       "    }\n",
       "\n",
       "    .dataframe thead th {\n",
       "        text-align: right;\n",
       "    }\n",
       "</style>\n",
       "<table border=\"1\" class=\"dataframe\">\n",
       "  <thead>\n",
       "    <tr style=\"text-align: right;\">\n",
       "      <th></th>\n",
       "      <th>Sentence</th>\n",
       "    </tr>\n",
       "  </thead>\n",
       "  <tbody>\n",
       "    <tr>\n",
       "      <td>0</td>\n",
       "      <td>Why Click?¶ There are so many libraries out there for writing command line utilities; why does Click exist?</td>\n",
       "    </tr>\n",
       "    <tr>\n",
       "      <td>1</td>\n",
       "      <td>This question is easy to answer: because there is not a single command line utility for Python out there which ticks the following boxes:  is lazily composable without restrictions supports implementation of Unix/POSIX command line conventions supports loading values from environment variables out of the box supports for prompting of custom values is fully nestable and composable works the same in Python 2 and 3 supports file handling out of the box comes with useful common helpers (getting ...</td>\n",
       "    </tr>\n",
       "    <tr>\n",
       "      <td>2</td>\n",
       "      <td>There are many alternatives to Click and you can have a look at them if you enjoy them better.</td>\n",
       "    </tr>\n",
       "    <tr>\n",
       "      <td>3</td>\n",
       "      <td>The obvious ones are optparse and argparse from the standard library.</td>\n",
       "    </tr>\n",
       "    <tr>\n",
       "      <td>4</td>\n",
       "      <td>Click actually implements its own parsing of arguments and does not use optparse or argparse following the optparse parsing behavior.</td>\n",
       "    </tr>\n",
       "    <tr>\n",
       "      <td>5</td>\n",
       "      <td>The reason it’s not based on argparse is that argparse does not allow proper nesting of commands by design and has some deficiencies when it comes to POSIX compliant argument handling.</td>\n",
       "    </tr>\n",
       "    <tr>\n",
       "      <td>6</td>\n",
       "      <td>Click is designed to be fun to work with and at the same time not stand in your way.</td>\n",
       "    </tr>\n",
       "    <tr>\n",
       "      <td>7</td>\n",
       "      <td>It’s not overly flexible either.</td>\n",
       "    </tr>\n",
       "    <tr>\n",
       "      <td>8</td>\n",
       "      <td>Currently, for instance, it does not allow you to customize the help pages too much.</td>\n",
       "    </tr>\n",
       "    <tr>\n",
       "      <td>9</td>\n",
       "      <td>This is intentional because Click is designed to allow you to nest command line utilities.</td>\n",
       "    </tr>\n",
       "    <tr>\n",
       "      <td>10</td>\n",
       "      <td>The idea is that you can have a system that works together with another system by tacking two Click instances together and they will continue working as they should.</td>\n",
       "    </tr>\n",
       "    <tr>\n",
       "      <td>11</td>\n",
       "      <td>Too much customizability would break this promise.</td>\n",
       "    </tr>\n",
       "    <tr>\n",
       "      <td>12</td>\n",
       "      <td>Click was written to support the Flask microframework ecosystem because no tool could provide it with the functionality it needed.</td>\n",
       "    </tr>\n",
       "    <tr>\n",
       "      <td>13</td>\n",
       "      <td>To get an understanding of what Click is all about, I strongly recommend looking at the Complex Applications chapter to see what it’s useful for.</td>\n",
       "    </tr>\n",
       "    <tr>\n",
       "      <td>14</td>\n",
       "      <td>Why not Argparse?¶ Click is internally based on optparse instead of argparse.</td>\n",
       "    </tr>\n",
       "    <tr>\n",
       "      <td>15</td>\n",
       "      <td>This however is an implementation detail that a user does not have to be concerned with.</td>\n",
       "    </tr>\n",
       "    <tr>\n",
       "      <td>16</td>\n",
       "      <td>The reason however Click is not using argparse is that it has some problematic behaviors that make handling arbitrary command line interfaces hard:  argparse has built-in magic behavior to guess if something is an argument or an option.</td>\n",
       "    </tr>\n",
       "    <tr>\n",
       "      <td>17</td>\n",
       "      <td>This becomes a problem when dealing with incomplete command lines as it’s not possible to know without having a full understanding of the command line how the parser is going to behave.</td>\n",
       "    </tr>\n",
       "    <tr>\n",
       "      <td>18</td>\n",
       "      <td>This goes against Click’s ambitions of dispatching to subparsers.</td>\n",
       "    </tr>\n",
       "    <tr>\n",
       "      <td>19</td>\n",
       "      <td>argparse currently does not support disabling of interspersed arguments.</td>\n",
       "    </tr>\n",
       "    <tr>\n",
       "      <td>20</td>\n",
       "      <td>Without this feature it’s not possible to safely implement Click’s nested parsing nature.</td>\n",
       "    </tr>\n",
       "    <tr>\n",
       "      <td>21</td>\n",
       "      <td>Why not Docopt etc.</td>\n",
       "    </tr>\n",
       "    <tr>\n",
       "      <td>22</td>\n",
       "      <td>?¶ Docopt and many tools like it are cool in how they work, but very few of these tools deal with nesting of commands and composability in a way like Click.</td>\n",
       "    </tr>\n",
       "    <tr>\n",
       "      <td>23</td>\n",
       "      <td>To the best of the developer’s knowledge, Click is the first Python library that aims to create a level of composability of applications that goes beyond what the system itself supports.</td>\n",
       "    </tr>\n",
       "    <tr>\n",
       "      <td>24</td>\n",
       "      <td>Docopt, for instance, acts by parsing your help pages and then parsing according to those rules.</td>\n",
       "    </tr>\n",
       "    <tr>\n",
       "      <td>25</td>\n",
       "      <td>The side effect of this is that docopt is quite rigid in how it handles the command line interface.</td>\n",
       "    </tr>\n",
       "    <tr>\n",
       "      <td>26</td>\n",
       "      <td>The upside of docopt is that it gives you strong control over your help page; the downside is that due to this it cannot rewrap your output for the current terminal width and it makes translations hard.</td>\n",
       "    </tr>\n",
       "    <tr>\n",
       "      <td>27</td>\n",
       "      <td>On top of that docopt is restricted to basic parsing.</td>\n",
       "    </tr>\n",
       "    <tr>\n",
       "      <td>28</td>\n",
       "      <td>It does not handle argument dispatching and callback invocation or types.</td>\n",
       "    </tr>\n",
       "    <tr>\n",
       "      <td>29</td>\n",
       "      <td>This means there is a lot of code that needs to be written in addition to the basic help page to handle the parsing results.</td>\n",
       "    </tr>\n",
       "    <tr>\n",
       "      <td>30</td>\n",
       "      <td>Most of all, however, it makes composability hard.</td>\n",
       "    </tr>\n",
       "    <tr>\n",
       "      <td>31</td>\n",
       "      <td>While docopt does support dispatching to subcommands, it for instance does not directly support any kind of automatic subcommand enumeration based on what’s available or it does not enforce subcommands to work in a consistent way.</td>\n",
       "    </tr>\n",
       "    <tr>\n",
       "      <td>32</td>\n",
       "      <td>This is fine, but it’s different from how Click wants to work.</td>\n",
       "    </tr>\n",
       "    <tr>\n",
       "      <td>33</td>\n",
       "      <td>Click aims to support fully composable command line user interfaces by doing the following:  Click does not just parse, it also dispatches to the appropriate code.</td>\n",
       "    </tr>\n",
       "    <tr>\n",
       "      <td>34</td>\n",
       "      <td>Click has a strong concept of an invocation context that allows subcommands to respond to data from the parent command.</td>\n",
       "    </tr>\n",
       "    <tr>\n",
       "      <td>35</td>\n",
       "      <td>Click has strong information available for all parameters and commands so that it can generate unified help pages for the full CLI and to assist the user in converting the input data as necessary.</td>\n",
       "    </tr>\n",
       "    <tr>\n",
       "      <td>36</td>\n",
       "      <td>Click has a strong understanding of what types are and can give the user consistent error messages if something goes wrong.</td>\n",
       "    </tr>\n",
       "    <tr>\n",
       "      <td>37</td>\n",
       "      <td>A subcommand written by a different developer will not suddenly die with a different error message because it’s manually handled.</td>\n",
       "    </tr>\n",
       "    <tr>\n",
       "      <td>38</td>\n",
       "      <td>Click has enough meta information available for its whole program that it can evolve over time to improve the user experience without forcing developers to adjust their programs.</td>\n",
       "    </tr>\n",
       "    <tr>\n",
       "      <td>39</td>\n",
       "      <td>For instance, if Click decides to change how help pages are formatted, all Click programs will automatically benefit from this.</td>\n",
       "    </tr>\n",
       "    <tr>\n",
       "      <td>40</td>\n",
       "      <td>The aim of Click is to make composable systems, whereas the aim of docopt is to build the most beautiful and hand-crafted command line interfaces.</td>\n",
       "    </tr>\n",
       "    <tr>\n",
       "      <td>41</td>\n",
       "      <td>These two goals conflict with one another in subtle ways.</td>\n",
       "    </tr>\n",
       "    <tr>\n",
       "      <td>42</td>\n",
       "      <td>Click actively prevents people from implementing certain patterns in order to achieve unified command line interfaces.</td>\n",
       "    </tr>\n",
       "    <tr>\n",
       "      <td>43</td>\n",
       "      <td>You have very little input on reformatting your help pages for instance.</td>\n",
       "    </tr>\n",
       "    <tr>\n",
       "      <td>44</td>\n",
       "      <td>Why Hardcoded Behaviors?¶ The other question is why Click goes away from optparse and hardcodes certain behaviors instead of staying configurable.</td>\n",
       "    </tr>\n",
       "    <tr>\n",
       "      <td>45</td>\n",
       "      <td>There are multiple reasons for this.</td>\n",
       "    </tr>\n",
       "    <tr>\n",
       "      <td>46</td>\n",
       "      <td>The biggest one is that too much configurability makes it hard to achieve a consistent command line experience.</td>\n",
       "    </tr>\n",
       "    <tr>\n",
       "      <td>47</td>\n",
       "      <td>The best example for this is optparse’s callback functionality for accepting an arbitrary number of arguments.</td>\n",
       "    </tr>\n",
       "    <tr>\n",
       "      <td>48</td>\n",
       "      <td>Due to syntactical ambiguities on the command line, there is no way to implement fully variadic arguments.</td>\n",
       "    </tr>\n",
       "    <tr>\n",
       "      <td>49</td>\n",
       "      <td>There are always tradeoffs that need to be made and in case of argparse these tradeoffs have been critical enough, that a system like Click cannot even be implemented on top of it.</td>\n",
       "    </tr>\n",
       "    <tr>\n",
       "      <td>50</td>\n",
       "      <td>In this particular case, Click attempts to stay with a handful of accepted paradigms for building command line interfaces that can be well documented and tested.</td>\n",
       "    </tr>\n",
       "    <tr>\n",
       "      <td>51</td>\n",
       "      <td>Why No Auto Correction?¶ The question came up why Click does not auto correct parameters given that even optparse and argparse support automatic expansion of long arguments.</td>\n",
       "    </tr>\n",
       "    <tr>\n",
       "      <td>52</td>\n",
       "      <td>The reason for this is that it’s a liability for backwards compatibility.</td>\n",
       "    </tr>\n",
       "    <tr>\n",
       "      <td>53</td>\n",
       "      <td>If people start relying on automatically modified parameters and someone adds a new parameter in the future, the script might stop working.</td>\n",
       "    </tr>\n",
       "    <tr>\n",
       "      <td>54</td>\n",
       "      <td>These kinds of problems are hard to find so Click does not attempt to be magical about this.</td>\n",
       "    </tr>\n",
       "    <tr>\n",
       "      <td>55</td>\n",
       "      <td>This sort of behavior however can be implemented on a higher level to support things such as explicit aliases.</td>\n",
       "    </tr>\n",
       "    <tr>\n",
       "      <td>56</td>\n",
       "      <td>For more information see Command Aliases.</td>\n",
       "    </tr>\n",
       "  </tbody>\n",
       "</table>\n",
       "</div>"
      ],
      "text/plain": [
       "                                                                                                                                                                                                                                                                                                                                                                                                                                                                                                               Sentence\n",
       "0                                                                                                                                                                                                                                                                                                                                                                                                           Why Click?¶ There are so many libraries out there for writing command line utilities; why does Click exist?\n",
       "1   This question is easy to answer: because there is not a single command line utility for Python out there which ticks the following boxes:  is lazily composable without restrictions supports implementation of Unix/POSIX command line conventions supports loading values from environment variables out of the box supports for prompting of custom values is fully nestable and composable works the same in Python 2 and 3 supports file handling out of the box comes with useful common helpers (getting ...\n",
       "2                                                                                                                                                                                                                                                                                                                                                                                                                        There are many alternatives to Click and you can have a look at them if you enjoy them better.\n",
       "3                                                                                                                                                                                                                                                                                                                                                                                                                                                 The obvious ones are optparse and argparse from the standard library.\n",
       "4                                                                                                                                                                                                                                                                                                                                                                                 Click actually implements its own parsing of arguments and does not use optparse or argparse following the optparse parsing behavior.\n",
       "5                                                                                                                                                                                                                                                                                                                              The reason it’s not based on argparse is that argparse does not allow proper nesting of commands by design and has some deficiencies when it comes to POSIX compliant argument handling.\n",
       "6                                                                                                                                                                                                                                                                                                                                                                                                                                  Click is designed to be fun to work with and at the same time not stand in your way.\n",
       "7                                                                                                                                                                                                                                                                                                                                                                                                                                                                                      It’s not overly flexible either.\n",
       "8                                                                                                                                                                                                                                                                                                                                                                                                                                  Currently, for instance, it does not allow you to customize the help pages too much.\n",
       "9                                                                                                                                                                                                                                                                                                                                                                                                                            This is intentional because Click is designed to allow you to nest command line utilities.\n",
       "10                                                                                                                                                                                                                                                                                                                                                The idea is that you can have a system that works together with another system by tacking two Click instances together and they will continue working as they should.\n",
       "11                                                                                                                                                                                                                                                                                                                                                                                                                                                                   Too much customizability would break this promise.\n",
       "12                                                                                                                                                                                                                                                                                                                                                                                   Click was written to support the Flask microframework ecosystem because no tool could provide it with the functionality it needed.\n",
       "13                                                                                                                                                                                                                                                                                                                                                                    To get an understanding of what Click is all about, I strongly recommend looking at the Complex Applications chapter to see what it’s useful for.\n",
       "14                                                                                                                                                                                                                                                                                                                                                                                                                                        Why not Argparse?¶ Click is internally based on optparse instead of argparse.\n",
       "15                                                                                                                                                                                                                                                                                                                                                                                                                             This however is an implementation detail that a user does not have to be concerned with.\n",
       "16                                                                                                                                                                                                                                                                         The reason however Click is not using argparse is that it has some problematic behaviors that make handling arbitrary command line interfaces hard:  argparse has built-in magic behavior to guess if something is an argument or an option.\n",
       "17                                                                                                                                                                                                                                                                                                                            This becomes a problem when dealing with incomplete command lines as it’s not possible to know without having a full understanding of the command line how the parser is going to behave.\n",
       "18                                                                                                                                                                                                                                                                                                                                                                                                                                                    This goes against Click’s ambitions of dispatching to subparsers.\n",
       "19                                                                                                                                                                                                                                                                                                                                                                                                                                             argparse currently does not support disabling of interspersed arguments.\n",
       "20                                                                                                                                                                                                                                                                                                                                                                                                                            Without this feature it’s not possible to safely implement Click’s nested parsing nature.\n",
       "21                                                                                                                                                                                                                                                                                                                                                                                                                                                                                                  Why not Docopt etc.\n",
       "22                                                                                                                                                                                                                                                                                                                                                         ?¶ Docopt and many tools like it are cool in how they work, but very few of these tools deal with nesting of commands and composability in a way like Click.\n",
       "23                                                                                                                                                                                                                                                                                                                           To the best of the developer’s knowledge, Click is the first Python library that aims to create a level of composability of applications that goes beyond what the system itself supports.\n",
       "24                                                                                                                                                                                                                                                                                                                                                                                                                     Docopt, for instance, acts by parsing your help pages and then parsing according to those rules.\n",
       "25                                                                                                                                                                                                                                                                                                                                                                                                                  The side effect of this is that docopt is quite rigid in how it handles the command line interface.\n",
       "26                                                                                                                                                                                                                                                                                                           The upside of docopt is that it gives you strong control over your help page; the downside is that due to this it cannot rewrap your output for the current terminal width and it makes translations hard.\n",
       "27                                                                                                                                                                                                                                                                                                                                                                                                                                                                On top of that docopt is restricted to basic parsing.\n",
       "28                                                                                                                                                                                                                                                                                                                                                                                                                                            It does not handle argument dispatching and callback invocation or types.\n",
       "29                                                                                                                                                                                                                                                                                                                                                                                         This means there is a lot of code that needs to be written in addition to the basic help page to handle the parsing results.\n",
       "30                                                                                                                                                                                                                                                                                                                                                                                                                                                                   Most of all, however, it makes composability hard.\n",
       "31                                                                                                                                                                                                                                                                               While docopt does support dispatching to subcommands, it for instance does not directly support any kind of automatic subcommand enumeration based on what’s available or it does not enforce subcommands to work in a consistent way.\n",
       "32                                                                                                                                                                                                                                                                                                                                                                                                                                                       This is fine, but it’s different from how Click wants to work.\n",
       "33                                                                                                                                                                                                                                                                                                                                                  Click aims to support fully composable command line user interfaces by doing the following:  Click does not just parse, it also dispatches to the appropriate code.\n",
       "34                                                                                                                                                                                                                                                                                                                                                                                              Click has a strong concept of an invocation context that allows subcommands to respond to data from the parent command.\n",
       "35                                                                                                                                                                                                                                                                                                                 Click has strong information available for all parameters and commands so that it can generate unified help pages for the full CLI and to assist the user in converting the input data as necessary.\n",
       "36                                                                                                                                                                                                                                                                                                                                                                                          Click has a strong understanding of what types are and can give the user consistent error messages if something goes wrong.\n",
       "37                                                                                                                                                                                                                                                                                                                                                                                    A subcommand written by a different developer will not suddenly die with a different error message because it’s manually handled.\n",
       "38                                                                                                                                                                                                                                                                                                                                   Click has enough meta information available for its whole program that it can evolve over time to improve the user experience without forcing developers to adjust their programs.\n",
       "39                                                                                                                                                                                                                                                                                                                                                                                      For instance, if Click decides to change how help pages are formatted, all Click programs will automatically benefit from this.\n",
       "40                                                                                                                                                                                                                                                                                                                                                                   The aim of Click is to make composable systems, whereas the aim of docopt is to build the most beautiful and hand-crafted command line interfaces.\n",
       "41                                                                                                                                                                                                                                                                                                                                                                                                                                                            These two goals conflict with one another in subtle ways.\n",
       "42                                                                                                                                                                                                                                                                                                                                                                                               Click actively prevents people from implementing certain patterns in order to achieve unified command line interfaces.\n",
       "43                                                                                                                                                                                                                                                                                                                                                                                                                                             You have very little input on reformatting your help pages for instance.\n",
       "44                                                                                                                                                                                                                                                                                                                                                                   Why Hardcoded Behaviors?¶ The other question is why Click goes away from optparse and hardcodes certain behaviors instead of staying configurable.\n",
       "45                                                                                                                                                                                                                                                                                                                                                                                                                                                                                 There are multiple reasons for this.\n",
       "46                                                                                                                                                                                                                                                                                                                                                                                                      The biggest one is that too much configurability makes it hard to achieve a consistent command line experience.\n",
       "47                                                                                                                                                                                                                                                                                                                                                                                                       The best example for this is optparse’s callback functionality for accepting an arbitrary number of arguments.\n",
       "48                                                                                                                                                                                                                                                                                                                                                                                                           Due to syntactical ambiguities on the command line, there is no way to implement fully variadic arguments.\n",
       "49                                                                                                                                                                                                                                                                                                                                 There are always tradeoffs that need to be made and in case of argparse these tradeoffs have been critical enough, that a system like Click cannot even be implemented on top of it.\n",
       "50                                                                                                                                                                                                                                                                                                                                                    In this particular case, Click attempts to stay with a handful of accepted paradigms for building command line interfaces that can be well documented and tested.\n",
       "51                                                                                                                                                                                                                                                                                                                                        Why No Auto Correction?¶ The question came up why Click does not auto correct parameters given that even optparse and argparse support automatic expansion of long arguments.\n",
       "52                                                                                                                                                                                                                                                                                                                                                                                                                                            The reason for this is that it’s a liability for backwards compatibility.\n",
       "53                                                                                                                                                                                                                                                                                                                                                                          If people start relying on automatically modified parameters and someone adds a new parameter in the future, the script might stop working.\n",
       "54                                                                                                                                                                                                                                                                                                                                                                                                                         These kinds of problems are hard to find so Click does not attempt to be magical about this.\n",
       "55                                                                                                                                                                                                                                                                                                                                                                                                       This sort of behavior however can be implemented on a higher level to support things such as explicit aliases.\n",
       "56                                                                                                                                                                                                                                                                                                                                                                                                                                                                            For more information see Command Aliases."
      ]
     },
     "execution_count": 13,
     "metadata": {},
     "output_type": "execute_result"
    }
   ],
   "source": [
    "show_sentences(why_click)"
   ]
  },
  {
   "cell_type": "markdown",
   "metadata": {},
   "source": [
    "## Summarize"
   ]
  },
  {
   "cell_type": "code",
   "execution_count": 9,
   "metadata": {},
   "outputs": [
    {
     "data": {
      "text/plain": [
       "'This question is easy to answer: because there is not a single command line utility for Python out there which ticks the following boxes:  is lazily composable without restrictions supports implementation of Unix/POSIX command line conventions supports loading values from environment variables out of the box supports for prompting of custom values is fully nestable and composable works the same in Python 2 and 3 supports file handling out of the box comes with useful common helpers (getting terminal dimensions, ANSI colors, fetching direct keyboard input, screen clearing, finding config paths, launching apps and editors, etc.)  There are many alternatives to Click and you can have a look at them if you enjoy them better.\\nThe reason it’s not based on argparse is that argparse does not allow proper nesting of commands by design and has some deficiencies when it comes to POSIX compliant argument handling.\\nThe reason however Click is not using argparse is that it has some problematic behaviors that make handling arbitrary command line interfaces hard:  argparse has built-in magic behavior to guess if something is an argument or an option.\\nWhy not Docopt etc.?¶ Docopt and many tools like it are cool in how they work, but very few of these tools deal with nesting of commands and composability in a way like Click.\\nThe upside of docopt is that it gives you strong control over your help page; the downside is that due to this it cannot rewrap your output for the current terminal width and it makes translations hard.\\nWhile docopt does support dispatching to subcommands, it for instance does not directly support any kind of automatic subcommand enumeration based on what’s available or it does not enforce subcommands to work in a consistent way.\\nClick aims to support fully composable command line user interfaces by doing the following:  Click does not just parse, it also dispatches to the appropriate code.\\nClick has strong information available for all parameters and commands so that it can generate unified help pages for the full CLI and to assist the user in converting the input data as necessary.\\nThe aim of Click is to make composable systems, whereas the aim of docopt is to build the most beautiful and hand-crafted command line interfaces.\\nClick actively prevents people from implementing certain patterns in order to achieve unified command line interfaces.\\nDue to syntactical ambiguities on the command line, there is no way to implement fully variadic arguments.'"
      ]
     },
     "execution_count": 9,
     "metadata": {},
     "output_type": "execute_result"
    }
   ],
   "source": [
    "summary = summarize(why_click)\n",
    "summary"
   ]
  },
  {
   "cell_type": "code",
   "execution_count": 10,
   "metadata": {},
   "outputs": [
    {
     "data": {
      "text/plain": [
       "['This question is easy to answer: because there is not a single command line utility for Python out there which ticks the following boxes:  is lazily composable without restrictions supports implementation of Unix/POSIX command line conventions supports loading values from environment variables out of the box supports for prompting of custom values is fully nestable and composable works the same in Python 2 and 3 supports file handling out of the box comes with useful common helpers (getting terminal dimensions, ANSI colors, fetching direct keyboard input, screen clearing, finding config paths, launching apps and editors, etc.)  There are many alternatives to Click and you can have a look at them if you enjoy them better.',\n",
       " 'The reason it’s not based on argparse is that argparse does not allow proper nesting of commands by design and has some deficiencies when it comes to POSIX compliant argument handling.',\n",
       " 'The reason however Click is not using argparse is that it has some problematic behaviors that make handling arbitrary command line interfaces hard:  argparse has built-in magic behavior to guess if something is an argument or an option.',\n",
       " 'Why not Docopt etc.?¶ Docopt and many tools like it are cool in how they work, but very few of these tools deal with nesting of commands and composability in a way like Click.',\n",
       " 'The upside of docopt is that it gives you strong control over your help page; the downside is that due to this it cannot rewrap your output for the current terminal width and it makes translations hard.',\n",
       " 'While docopt does support dispatching to subcommands, it for instance does not directly support any kind of automatic subcommand enumeration based on what’s available or it does not enforce subcommands to work in a consistent way.',\n",
       " 'Click aims to support fully composable command line user interfaces by doing the following:  Click does not just parse, it also dispatches to the appropriate code.',\n",
       " 'Click has strong information available for all parameters and commands so that it can generate unified help pages for the full CLI and to assist the user in converting the input data as necessary.',\n",
       " 'The aim of Click is to make composable systems, whereas the aim of docopt is to build the most beautiful and hand-crafted command line interfaces.',\n",
       " 'Click actively prevents people from implementing certain patterns in order to achieve unified command line interfaces.',\n",
       " 'Due to syntactical ambiguities on the command line, there is no way to implement fully variadic arguments.']"
      ]
     },
     "execution_count": 10,
     "metadata": {},
     "output_type": "execute_result"
    }
   ],
   "source": [
    "summary = summarize(why_click, split=True)\n",
    "summary"
   ]
  },
  {
   "cell_type": "code",
   "execution_count": 96,
   "metadata": {},
   "outputs": [
    {
     "data": {
      "text/html": [
       "<div>\n",
       "<style scoped>\n",
       "    .dataframe tbody tr th:only-of-type {\n",
       "        vertical-align: middle;\n",
       "    }\n",
       "\n",
       "    .dataframe tbody tr th {\n",
       "        vertical-align: top;\n",
       "    }\n",
       "\n",
       "    .dataframe thead th {\n",
       "        text-align: right;\n",
       "    }\n",
       "</style>\n",
       "<table border=\"1\" class=\"dataframe\">\n",
       "  <thead>\n",
       "    <tr style=\"text-align: right;\">\n",
       "      <th></th>\n",
       "      <th>Sentence</th>\n",
       "    </tr>\n",
       "  </thead>\n",
       "  <tbody>\n",
       "    <tr>\n",
       "      <th>0</th>\n",
       "      <td>This question is easy to answer: because there is not a single command line utility for Python out there which ticks the following boxes:  is lazily composable without restrictions supports implementation of Unix/POSIX command line conventions supports loading values from environment variables out of the box supports for prompting of custom values is fully nestable and composable works the same in Python 2 and 3 supports file handling out of the box comes with useful common helpers (getting ...</td>\n",
       "    </tr>\n",
       "    <tr>\n",
       "      <th>1</th>\n",
       "      <td>There are many alternatives to Click and you can have a look at them if you enjoy them better.</td>\n",
       "    </tr>\n",
       "    <tr>\n",
       "      <th>2</th>\n",
       "      <td>The reason it’s not based on argparse is that argparse does not allow proper nesting of commands by design and has some deficiencies when it comes to POSIX compliant argument handling.</td>\n",
       "    </tr>\n",
       "    <tr>\n",
       "      <th>3</th>\n",
       "      <td>The reason however Click is not using argparse is that it has some problematic behaviors that make handling arbitrary command line interfaces hard:  argparse has built-in magic behavior to guess if something is an argument or an option.</td>\n",
       "    </tr>\n",
       "    <tr>\n",
       "      <th>4</th>\n",
       "      <td>Click aims to support fully composable command line user interfaces by doing the following:  Click does not just parse, it also dispatches to the appropriate code.</td>\n",
       "    </tr>\n",
       "    <tr>\n",
       "      <th>5</th>\n",
       "      <td>Click has strong information available for all parameters and commands so that it can generate unified help pages for the full CLI and to assist the user in converting the input data as necessary.</td>\n",
       "    </tr>\n",
       "  </tbody>\n",
       "</table>\n",
       "</div>"
      ],
      "text/plain": [
       "                                                                                                                                                                                                                                                                                                                                                                                                                                                                                                              Sentence\n",
       "0  This question is easy to answer: because there is not a single command line utility for Python out there which ticks the following boxes:  is lazily composable without restrictions supports implementation of Unix/POSIX command line conventions supports loading values from environment variables out of the box supports for prompting of custom values is fully nestable and composable works the same in Python 2 and 3 supports file handling out of the box comes with useful common helpers (getting ...\n",
       "1                                                                                                                                                                                                                                                                                                                                                                                                                       There are many alternatives to Click and you can have a look at them if you enjoy them better.\n",
       "2                                                                                                                                                                                                                                                                                                                             The reason it’s not based on argparse is that argparse does not allow proper nesting of commands by design and has some deficiencies when it comes to POSIX compliant argument handling.\n",
       "3                                                                                                                                                                                                                                                                         The reason however Click is not using argparse is that it has some problematic behaviors that make handling arbitrary command line interfaces hard:  argparse has built-in magic behavior to guess if something is an argument or an option.\n",
       "4                                                                                                                                                                                                                                                                                                                                                  Click aims to support fully composable command line user interfaces by doing the following:  Click does not just parse, it also dispatches to the appropriate code.\n",
       "5                                                                                                                                                                                                                                                                                                                 Click has strong information available for all parameters and commands so that it can generate unified help pages for the full CLI and to assist the user in converting the input data as necessary."
      ]
     },
     "execution_count": 96,
     "metadata": {},
     "output_type": "execute_result"
    }
   ],
   "source": [
    "summary = summarize(why_click, ratio=0.1)\n",
    "show_sentences(summary)"
   ]
  },
  {
   "cell_type": "code",
   "execution_count": 12,
   "metadata": {},
   "outputs": [
    {
     "data": {
      "text/plain": [
       "'This question is easy to answer: because there is not a single command line utility for Python out there which ticks the following boxes:  is lazily composable without restrictions supports implementation of Unix/POSIX command line conventions supports loading values from environment variables out of the box supports for prompting of custom values is fully nestable and composable works the same in Python 2 and 3 supports file handling out of the box comes with useful common helpers (getting terminal dimensions, ANSI colors, fetching direct keyboard input, screen clearing, finding config paths, launching apps and editors, etc.)  There are many alternatives to Click and you can have a look at them if you enjoy them better.\\nThe reason it’s not based on argparse is that argparse does not allow proper nesting of commands by design and has some deficiencies when it comes to POSIX compliant argument handling.\\nThe reason however Click is not using argparse is that it has some problematic behaviors that make handling arbitrary command line interfaces hard:  argparse has built-in magic behavior to guess if something is an argument or an option.\\nClick aims to support fully composable command line user interfaces by doing the following:  Click does not just parse, it also dispatches to the appropriate code.'"
      ]
     },
     "execution_count": 12,
     "metadata": {},
     "output_type": "execute_result"
    }
   ],
   "source": [
    "summary = summarize(why_click, word_count=200)\n",
    "summary"
   ]
  },
  {
   "cell_type": "code",
   "execution_count": null,
   "metadata": {},
   "outputs": [],
   "source": []
  }
 ],
 "metadata": {
  "kernelspec": {
   "display_name": "Python 3",
   "language": "python",
   "name": "python3"
  },
  "language_info": {
   "codemirror_mode": {
    "name": "ipython",
    "version": 3
   },
   "file_extension": ".py",
   "mimetype": "text/x-python",
   "name": "python",
   "nbconvert_exporter": "python",
   "pygments_lexer": "ipython3",
   "version": "3.7.4"
  }
 },
 "nbformat": 4,
 "nbformat_minor": 2
}
